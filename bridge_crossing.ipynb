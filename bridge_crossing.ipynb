{
 "cells": [
  {
   "cell_type": "markdown",
   "metadata": {},
   "source": [
    "# IMPORTS"
   ]
  },
  {
   "cell_type": "code",
   "execution_count": 2,
   "metadata": {
    "collapsed": true
   },
   "outputs": [],
   "source": [
    "import itertools\n",
    "import sys\n",
    "import time"
   ]
  },
  {
   "cell_type": "markdown",
   "metadata": {},
   "source": [
    "# FUNCTION DEFINITIONS"
   ]
  },
  {
   "cell_type": "markdown",
   "metadata": {},
   "source": [
    "Class Definitions"
   ]
  },
  {
   "cell_type": "code",
   "execution_count": 3,
   "metadata": {
    "collapsed": true
   },
   "outputs": [],
   "source": [
    "class Node(object):\n",
    "    def __init__(self, data=None, next_node=None):\n",
    "        self.data = data\n",
    "        self.next_node = next_node\n",
    "        \n",
    "    def get_data(self):\n",
    "        return self.data\n",
    "    \n",
    "    def get_next(self):\n",
    "        return self.next_node\n",
    "    \n",
    "    def set_next(self, new_next):\n",
    "        self.next_node = new_next\n",
    "\n",
    "    #https://www.codefellows.org/blog/implementing-a-singly-linked-list-in-python/\n",
    "\n",
    "    def get_state(self):\n",
    "        return self.data[1]\n",
    "\n",
    "    def get_direction(self):\n",
    "        return self.data[3]\n",
    "\n",
    "    def get_successor1(self):\n",
    "        successor = itertools.combinations(self.state, len(self.state)-2)\n",
    "        successor_pairs = []\n",
    "        for i in successor:\n",
    "            left_group = self.state[:]\n",
    "            for j in i:\n",
    "                if j in self.state:\n",
    "                    left_group.remove(j)\n",
    "            successor_pairs.append((list(i), left_group))\n",
    "        return successor_pairs\n",
    "\n",
    "    # TODO: try to refactor\n",
    "    def get_successor2(self, crossed):\n",
    "        successor = []\n",
    "        for i in crossed:\n",
    "            with_returnee = self.state[:]\n",
    "            with_returnee.append(i)\n",
    "            with_returnee.sort()\n",
    "            successor.append((with_returnee, i))\n",
    "\n",
    "    def get_crossed_list(self, original):\n",
    "        original_state = original[:]\n",
    "        state = self.state[:]\n",
    "        for i in original_state[:]:\n",
    "            if i in state:\n",
    "                original_state.remove(i)\n",
    "                state.remove(i)\n",
    "        crossed = original_state[:]\n",
    "        return crossed"
   ]
  },
  {
   "cell_type": "markdown",
   "metadata": {},
   "source": [
    "Administrative functions"
   ]
  },
  {
   "cell_type": "code",
   "execution_count": 4,
   "metadata": {
    "collapsed": true
   },
   "outputs": [],
   "source": [
    "def print_time(start, end, start2, end2):\n",
    "    runtime = end-start\n",
    "    wallruntime = end2-start2\n",
    "    print(runtime)\n",
    "    print(wallruntime)\n",
    "    return"
   ]
  },
  {
   "cell_type": "code",
   "execution_count": 5,
   "metadata": {
    "collapsed": true
   },
   "outputs": [],
   "source": [
    "def print_fringe (fringe_parameter):\n",
    "    printedlist = []\n",
    "    for i in fringe_parameter:\n",
    "        printedlist.append(i.data)\n",
    "    for i in printedlist:\n",
    "        print (i)\n",
    "    return"
   ]
  },
  {
   "cell_type": "code",
   "execution_count": 6,
   "metadata": {
    "collapsed": true
   },
   "outputs": [],
   "source": [
    "def print_path(node_parameter):\n",
    "    current = node_parameter\n",
    "    path = []\n",
    "    while current.next_node != None:\n",
    "        path.append(current.data[1])\n",
    "        current=current.next_node\n",
    "    path.append(current.data[1])\n",
    "    path.reverse()\n",
    "    for i in path:\n",
    "        print(i)\n",
    "    return"
   ]
  },
  {
   "cell_type": "code",
   "execution_count": 7,
   "metadata": {
    "collapsed": true
   },
   "outputs": [],
   "source": [
    "def print_crossing(node_parameter):\n",
    "    current = node_parameter\n",
    "    output = []\n",
    "    previous_state = []\n",
    "    while current.next_node != None:\n",
    "        state = current.data[1]\n",
    "        direction = current.data[3]\n",
    "        \n",
    "        if direction == 0:\n",
    "            crossed = get_crossed_list(state, previous_state)\n",
    "            crossed.append('<-')\n",
    "            output.append(crossed)\n",
    "        else:\n",
    "            crossed = get_crossed_list(previous_state, state)\n",
    "            crossed.append('->')\n",
    "            output.append(crossed)\n",
    "        \n",
    "        previous_state = current.data[1]\n",
    "        current = current.next_node\n",
    "        \n",
    "    state = current.data[1]\n",
    "    direction = current.data[3]\n",
    "\n",
    "    crossed = get_crossed_list(previous_state, state)\n",
    "    if direction == 0:\n",
    "        crossed.append('<-')\n",
    "        output.append(crossed)\n",
    "    else:\n",
    "        crossed.append('->')\n",
    "        output.append(crossed)\n",
    "    \n",
    "    output.reverse()\n",
    "    for i in range(len(output)-1):\n",
    "        for j in output[i]:\n",
    "            print(j, end=' ')\n",
    "        print()\n",
    "    \n",
    "    return"
   ]
  },
  {
   "cell_type": "markdown",
   "metadata": {},
   "source": [
    "Calculation functions"
   ]
  },
  {
   "cell_type": "code",
   "execution_count": 8,
   "metadata": {
    "collapsed": true
   },
   "outputs": [],
   "source": [
    "def crossings(n_parameter):\n",
    "    if n_parameter == 0: return 0\n",
    "    elif n_parameter == 1: return 0\n",
    "    elif n_parameter == 2: return 0\n",
    "    if n_parameter == 3: return 3\n",
    "    else:\n",
    "        times = crossings(n_parameter-1)+2\n",
    "        return times"
   ]
  },
  {
   "cell_type": "markdown",
   "metadata": {},
   "source": [
    "Comparison functions"
   ]
  },
  {
   "cell_type": "code",
   "execution_count": 9,
   "metadata": {
    "collapsed": true
   },
   "outputs": [],
   "source": [
    "def max_of(triple_parameter):\n",
    "    tup1 = int(triple_parameter[1][0])\n",
    "    tup2 = int(triple_parameter[1][1])\n",
    "    if tup2 > tup1: return tup2\n",
    "    else: return tup1"
   ]
  },
  {
   "cell_type": "markdown",
   "metadata": {},
   "source": [
    "Fringe operations"
   ]
  },
  {
   "cell_type": "code",
   "execution_count": 10,
   "metadata": {
    "collapsed": true
   },
   "outputs": [],
   "source": [
    "def insert(node_parameter, subfringe_parameter):\n",
    "    for i in subfringe_parameter:\n",
    "        if i.data[1] == node_parameter.data[1]: return\n",
    "    subfringe_parameter.append(node_parameter)\n",
    "    return"
   ]
  },
  {
   "cell_type": "code",
   "execution_count": 11,
   "metadata": {
    "collapsed": true
   },
   "outputs": [],
   "source": [
    "def remove(fringe_parameter):\n",
    "    for a in range(len(fringe_parameter)):\n",
    "        if subfringe_empty(fringe_parameter, a): continue\n",
    "        #sort_fringe(fringe_parameter[a])\n",
    "        node_parameter = fringe_parameter[a][0]\n",
    "        fringe_parameter[a].remove(fringe_parameter[a][0])\n",
    "        return node_parameter"
   ]
  },
  {
   "cell_type": "code",
   "execution_count": 12,
   "metadata": {
    "collapsed": true
   },
   "outputs": [],
   "source": [
    "def remove_duplicate(node_parameter, subfringe_parameter):\n",
    "    new_sub = []\n",
    "    for i in range(len(subfringe_parameter)):\n",
    "        if subfringe_parameter[i].data[1] != node_parameter.data[1]:\n",
    "            #subfringe_parameter[1].remove(subfringe_parameter[i])\n",
    "            new_sub.append(subfringe_parameter[i])\n",
    "        elif subfringe_parameter[i].data[3] != node_parameter.data[3]:\n",
    "            new_sub.append(subfringe_parameter[i])\n",
    "    return new_sub"
   ]
  },
  {
   "cell_type": "code",
   "execution_count": 13,
   "metadata": {
    "collapsed": true
   },
   "outputs": [],
   "source": [
    "def fringe_empty(fringe_parameter):\n",
    "    for a in fringe_parameter:\n",
    "        if not(len(a)==0):\n",
    "            return False\n",
    "        else: continue\n",
    "    return True"
   ]
  },
  {
   "cell_type": "code",
   "execution_count": 14,
   "metadata": {
    "collapsed": true
   },
   "outputs": [],
   "source": [
    "def subfringe_empty(fringe_parameter, subfringe_index):\n",
    "    if len(fringe_parameter[subfringe_index]) == 0: return True\n",
    "    else: return False"
   ]
  },
  {
   "cell_type": "markdown",
   "metadata": {},
   "source": [
    "Table operations"
   ]
  },
  {
   "cell_type": "code",
   "execution_count": 20,
   "metadata": {
    "collapsed": true
   },
   "outputs": [],
   "source": [
    "def in_table(node_parameter, table_parameter):\n",
    "    if table_parameter[tuple(node_parameter.data[1])] != 999999999: return (1, table_parameter[tuple(node_parameter.data[1])])\n",
    "    else: return (0, 999999999)"
   ]
  },
  {
   "cell_type": "markdown",
   "metadata": {},
   "source": [
    "## Implementation"
   ]
  },
  {
   "cell_type": "markdown",
   "metadata": {},
   "source": [
    "To represent the problem, the implementation takes into account three aspects of the problem: **the states, the transitions, and the goal.**\n",
    "<br><br>\n",
    "*States*\n",
    "> The states are the people left who need to cross the bridge to get to the other side. In the program implementation, this is represented by a list of integers that represent the amount of time it takes for them to cross. For this report, we will refer to the side from which people need to cross as the left side, and the side where people need to go as the right side. \n",
    "\n",
    "*Transition/successor functions*\n",
    "> The states reach other states through transition/successor functions. The implementation of the problem uses two functions: one for when two people cross to the other side and another for when one person comes back with the flashlight. This means that the initial node can go to states which are two elements shorter than it, and these states in turn can go to states which are one element greater, and so on (e.g. ABCD -> AB -> ABC -> A).\n",
    "\n",
    "*Goal*\n",
    "> The goal is reached when there are no more people on the left side. This is represented by states with no elements which is equivalent to an empty list for a state.\n",
    "\n",
    "<br><br><br>\n",
    "The major elements of the program's implementation of the problem include: *the node, the fringe and hash tables, and successor functions*\n",
    "<br><br>\n",
    "*Node*<br>\n",
    "The node is the enclosing unit that represents a state and the details associated with it. It has both data and a pointer to another node. <br>\n",
    "The data contained within the node include:  <br>\n",
    "   > 1) an *integer cost* of the path from the initial node to that state, <br>\n",
    "   > 2) a *list of integers* for the time it takes each person to cross,<br>\n",
    "   > 3) the *number of people on the left side* which is the length of the list, <br>\n",
    "   > 4) the *direction* of crossing, and <br>\n",
    "   > 5) another integer cost of the *actual cost* from the initial node to that state.<br>\n",
    "    \n",
    "<div class=\"alert alert-block alert-info\">The first element in the data is the actual cost in UCS and the actual cost plus the heuristic value for the A star search. The fifth element is only existent in the A star search to store the actual cost.\n",
    "The pointer points to the predecessor of the state which is used when backtracking to the initial node to form a path when a solution is found.</div>\n",
    "\n",
    "*Fringe*<br>\n",
    "> The fringe is represented by a list of lists. Its length is equal to the highest cost possible which occurs when the person with the maximum cost crosses the bridge every time. The elements of the sub-lists are the nodes which are queued for exploration/expansion. The sub-lists are indexed according to the path cost of the member nodes (i.e. all states with the same path cost belong to the same sub-list). Removing an element for expansion involves iterating over the main list checking if the sub-list in that index is empty, if not, then the first element is returned. Inserting a node to the fringe is done simply by appending the node to the sub-list indexed by the node's path cost. This implementation was chosen to reduce the overhead time cost of sorting the fringe every time a node is inserted.\n",
    "\n",
    "*Hash tables*\n",
    "> The hash tables, implemented through dictionaries, are used to keep track of states in the fringe set and in the explored set. The keys are all the possible combinations which can be taken from the set of people. Its value is initially set to a large number and is updated every time a node is explored or added to the fringe. For example, before a node is added, the table is checked if a node with the same state already exists in the fringe or in the explored set. If the value in the table is the initial large number, then the state is not yet in the fringe and is simply added to it. If the value in the table is not the initial large number, the path cost of the node is compared with that value. If the path cost is smaller, then the program adds the node to the appropriate sub-list in the fringe and removes the node in the sub-list indexed by the value in the table.\n",
    "\n",
    "*Successor functions*\n",
    "\n",
    ">The first successor function generates the possible combinations of length k-2, where k is the number of people on the left side. This is done through the combination method in an imported module called itertools. The function returns tuples that include the combinations of people on the left side and the two people who crossed.\n",
    "\n",
    ">The second successor function first determines the list of people in the right (initial state minus current state). l number of new lists are formed, where l is the number of people on the right side. Each member of the right side is added to the left side to form a list. The function returns tuples that include the new state and the person that came back.\n",
    "The implementation of the Uniform Cost Search and the A star Search are identical except for the evaluation functions of the two and the structure of the node wherein A star needs one more value to store the actual cost along with the path cost. The general flow of the algorithm is as follows:\n",
    "1. The start state/node is initialized based on the user input<br>\n",
    "2. An early check for trivial cases is made:\n",
    "    If the length of the input is 0, then that means that there are no people to consider. The program simply terminates.<br>\n",
    "    Else, if the length of the input is 1, then one crossing is all it takes and the total cost is that of the lone element.<br>\n",
    "    Else, if the length of the input is 2, also one crossing is sufficient and the total cost is the larger of the two elements.<br>\n",
    "3. The start node is inserted into the fringe and the corresponding values for the tables are updated<br>\n",
    "4. This loop which is done until a solution is found:<br>\n",
    "\ta.)  If the fringe is empty, then a failure is returned.<br>\n",
    "    b.)  Else, the highest priority (one with least cost) in the fringe is taken out. The tables are updated.<br>\n",
    "    c.)  The state and the direction of crossing in the data is extracted.<br>\n",
    "    d.)  The state is checked if it is a goal state. If yes, the search terminates and outputs solution.<br>\n",
    "    e.)  Else, the direction is checked to choose the right successor function<br>\n",
    "    f.)  If the direction is to cross (1), then the first successor function is chosen.<br>\n",
    "\tg.)  Else, if the direction is to come back (0), then the second is chosen.<br>\n",
    "\th.)  The successors of the current state are generated.<br>\n",
    "    i.)  For every successor states, the pathcost is calculated (UCS: pathcost = actual cost, Astar: pathcost = actual cost + heuristic value). A node is created and its data field is populated).<br>\n",
    "    j.)  The tables are checked to test for membership of the node in the fringe or explored set. If the node is not in the fringe or the explored set, it is appended to the fringe.<br>\n",
    "    k.)  If the node is in the fringe, the pathcosts are compared. If the pathcost of the node is lower, the one in the fringe is removed and the node is added.<br>"
   ]
  },
  {
   "cell_type": "markdown",
   "metadata": {},
   "source": [
    "### A * Heuristic\n",
    "The heuristic we chose is the maximum possible cost moving from that state to any other state other. Simply, the heuristic is the person with the highest cost in that state. It is said that function is admissible if h(n) ≤ h*(n), where h*(n) is the true cost and h(n) is the chosen heuristic. Proof is written down below.\n",
    "        \n",
    "    For cases wherein two or more people have yet to arrive at the right side:\n",
    "      The value of h(n) is the maximum cost between the members of the group. We have yet to factor in the cost of moving the other members of the group into the value which is the true cost [h*(n)] from that particular state to the goal state. From this, we can safely conclude that h(n) < h*(n).\n",
    "            \n",
    "    For cases wherein only one person has yet to arrive at the right side:\n",
    "        The value of h(n) is still the maximum cost between the members of the group. Since there is only one member in the group left, the maximum cost is also the only remaining cost. We do not have to factor in any other members of the group and therefore the heuristic now represents the true cost from that state to the goal state. From this we can safely conclude that h(n) = h*(n).\n",
    "          \n",
    "Since it is proven that h(n) ≤ h*(n), we can conclude that the heuristic is admissible."
   ]
  },
  {
   "cell_type": "code",
   "execution_count": 24,
   "metadata": {
    "collapsed": true
   },
   "outputs": [],
   "source": [
    "def search(initial, choice):\n",
    "    start = time.perf_counter()\n",
    "    wallstart = time.time()\n",
    "\n",
    "    n = len(initial)\n",
    "\n",
    "    if choice == 0:\n",
    "        \n",
    "        # Trivial cases check\n",
    "        \n",
    "        if initial[0]=='':\n",
    "            print (\"No people to cross.\")\n",
    "            sys.exit(1)\n",
    "        elif n == 1:\n",
    "            print (int(initial[0]), 2)\n",
    "            print (int(initial[0]), '->')\n",
    "            sys.exit(1)\n",
    "        elif n==2:\n",
    "            print (max(int(initial[0]), int(initial[1])), 2)\n",
    "            print (int(initial[0]), int(initial[1]), '->')\n",
    "            sys.exit(1)\n",
    "     \n",
    "        # Start node initialization\n",
    "\n",
    "        # In[44]:\n",
    "\n",
    "        for i in range(len(initial)):\n",
    "            initial[i]=int(initial[i])\n",
    "        initial.sort()\n",
    "        required_crossings = crossings(n)\n",
    "\n",
    "        initial_node_data = (0, initial, len(initial), 1)\n",
    "        initial_node = Node(initial_node_data)\n",
    "\n",
    "\n",
    "        # Container for the fringe, explored states, solution nodes, and tables initialization\n",
    "\n",
    "        # In[45]:\n",
    "\n",
    "        maximum = 0\n",
    "        for i in initial:\n",
    "            if int(i) > maximum: maximum = int(i)\n",
    "\n",
    "        maximum = maximum*required_crossings+1\n",
    "\n",
    "        fringe = []\n",
    "        explored = []\n",
    "        for i in range(maximum):\n",
    "            fringe.append([])\n",
    "            explored.append([])\n",
    "\n",
    "        dicstatelist0 = {}\n",
    "        dicstatelist1 = {}\n",
    "        dicexstatelist0 = {}\n",
    "        dicexstatelist1 = {}\n",
    "\n",
    "        m = n\n",
    "        while m>=0:\n",
    "            combi = itertools.combinations(initial, m)\n",
    "            for i in combi:\n",
    "                dicstatelist0[i] = 999999999\n",
    "                dicstatelist1[i] = 999999999\n",
    "                dicexstatelist0[i] = 999999999\n",
    "                dicexstatelist1[i] = 999999999\n",
    "            m-=1\n",
    "\n",
    "        solutions = []\n",
    "\n",
    "\n",
    "        # # UNIFORM COST SEARCH\n",
    "\n",
    "        # 1) Insert initial state to fringe\n",
    "\n",
    "        # In[46]:\n",
    "\n",
    "        insert(initial_node, fringe[initial_node.data[0]])\n",
    "        dicstatelist0[tuple(initial_node.data[1])] = 0\n",
    "\n",
    "\n",
    "        # 2) Repeat\n",
    "\n",
    "        # In[47]:\n",
    "\n",
    "        while(True):\n",
    "\n",
    "            ### RETURN FAILURE IF FRINGE IS EMPTY\n",
    "            if (fringe_empty(fringe)):\n",
    "                sys.exit(0)\n",
    "\n",
    "            ### REMOVE FROM FRINGE THE NODE WITH HIGHEST PRIORITY\n",
    "            node = remove(fringe)\n",
    "            explored.append(node)\n",
    "\n",
    "            ### GET THE STATE FROM NODE\n",
    "            state = get_state(node)\n",
    "            direction = get_direction(node)\n",
    "\n",
    "            ### IF THE STATE IS THE GOAL, RETURN SOLUTION\n",
    "            if len(state) == 0:\n",
    "                solutions.append(node)\n",
    "\n",
    "                print('Input: ', end=' ')\n",
    "                for i in initial:\n",
    "                    print(i, end=' ')\n",
    "                print()\n",
    "                print('Output: ', solutions[0].data[0], len(explored))        \n",
    "                print_crossing(solutions[0])\n",
    "                #print_path(solutions[0])\n",
    "\n",
    "                end = time.perf_counter()\n",
    "                wallend = time.time()\n",
    "                print_time(start, end, wallstart, wallend)\n",
    "                sys.exit(1)\n",
    "\n",
    "            cond1 = (1, 1)\n",
    "            cond2 = (0, 0)\n",
    "\n",
    "            ### GET THE SUCCESSORS OF THE STATE\n",
    "            ### SUCCESSOR FUNCTION FOR TWO CROSSING PEOPLE\n",
    "            if direction == 1:\n",
    "\n",
    "                dicexstatelist1[tuple(node.data[1])] = node.data[0]\n",
    "                dicstatelist1[tuple(node.data[1])] = 999999999\n",
    "\n",
    "                successors = get_successor1(state, len(state)-2)\n",
    "\n",
    "                ### CREATE A NODE FOR EVERY SUCCESSOR\n",
    "                for k in successors:\n",
    "                    pathcost = node.data[0]+int(max_of(k))\n",
    "                    nodeprime = Node((pathcost, k[0], len(k[0]), 0))\n",
    "                    nodeprime.set_next(node)\n",
    "\n",
    "                    cond2 = in_table(nodeprime, dicexstatelist0)\n",
    "                    cond1 = in_table(nodeprime, dicstatelist0)\n",
    "\n",
    "                    ### IF THE SUCCESSOR IS NOT IN FRINGE OR EXPLORED, INSERT NODE TO FRINGE\n",
    "                    if cond1[0]!=1 and cond2[0]!=1:\n",
    "                        insert(nodeprime, fringe[nodeprime.data[0]])\n",
    "                        dicstatelist0[tuple(nodeprime.data[1])] = nodeprime.data[0]\n",
    "\n",
    "                    ### ELSE IF THE SUCCESSOR IS IN THE FRINGE,\n",
    "                    ### REPLACE THE ONE IN THE FRINGE IF THE COST OF GOING TO THIS SUCCESSOR IS LOWER\n",
    "                    elif cond1[0]==1:\n",
    "                        if nodeprime.data[0]<cond1[1]:\n",
    "                            insert(nodeprime, fringe[nodeprime.data[0]])\n",
    "                            fringe[cond1[1]] = remove_duplicate(nodeprime, fringe[cond1[1]])\n",
    "                            if dicstatelist0[tuple(nodeprime.data[1])] > nodeprime.data[0]:\n",
    "                                dicstatelist0[tuple(nodeprime.data[1])] = nodeprime.data[0]\n",
    "\n",
    "            ### SUCCESSOR FUNCTION FOR ONE PERSON CROSSING BACK           \n",
    "            elif direction == 0:\n",
    "\n",
    "                dicexstatelist0[tuple(node.data[1])] = node.data[0]\n",
    "                dicstatelist0[tuple(node.data[1])] = 999999999\n",
    "\n",
    "                crossed = get_crossed_list(state, initial_node.data[1])\n",
    "                successors = get_successor2(state, crossed)\n",
    "\n",
    "                ### CREATE A NODE FOR EVERY SUCCESSOR\n",
    "                for k in successors:\n",
    "                    pathcost = node.data[0]+int(k[1])\n",
    "                    nodeprime = Node((pathcost, k[0], len(k[0]), 1))\n",
    "                    nodeprime.set_next(node)\n",
    "\n",
    "                    cond2 = in_table(nodeprime, dicexstatelist1)\n",
    "                    cond1 = in_table(nodeprime, dicstatelist1)\n",
    "\n",
    "                    ### IF THE SUCCESSOR IS NOT IN FRINGE OR EXPLORED, INSERT NODE TO FRINGE\n",
    "                    if cond1[0]!=1 and cond2[0]!=1:\n",
    "                        insert(nodeprime, fringe[nodeprime.data[0]])\n",
    "                        dicstatelist1[tuple(nodeprime.data[1])] = nodeprime.data[0]\n",
    "\n",
    "                    ### ELSE IF THE SUCCESSOR IS IN THE FRINGE,\n",
    "                    ### REPLACE THE ONE IN THE FRINGE IF THE COST OF GOING TO THE SUCCESSOR IS LOWER\n",
    "                    elif cond1[0]==1:\n",
    "                        if nodeprime.data[0]<cond1[1]:\n",
    "                            insert(nodeprime, fringe[nodeprime.data[0]])\n",
    "                            fringe[cond1[1]] = remove_duplicate(nodeprime, fringe[cond1[1]])\n",
    "                            if dicstatelist1[tuple(nodeprime.data[1])] > nodeprime.data[0]:\n",
    "                                dicstatelist1[tuple(nodeprime.data[1])] = nodeprime.data[0]\n",
    "            \n",
    "    elif choice == 1: \n",
    "        # Trivial cases check\n",
    "\n",
    "        # In[21]:\n",
    "\n",
    "        if initial[0]=='':\n",
    "            print (\"No people to cross.\")\n",
    "            sys.exit(1)\n",
    "        elif n == 1:\n",
    "            print (int(initial[0]), 2)\n",
    "            print (int(initial[0]), '->')\n",
    "            sys.exit(1)\n",
    "        elif n==2:\n",
    "            print (max(int(initial[0]), int(initial[1])), 2)\n",
    "            print (int(initial[0]), int(initial[1]), '->')\n",
    "            sys.exit(1)\n",
    "\n",
    "\n",
    "        # Start node initialization\n",
    "\n",
    "        # In[22]:\n",
    "\n",
    "        for i in range(len(initial)):\n",
    "            initial[i]=int(initial[i])\n",
    "        initial.sort()\n",
    "        required_crossings = crossings(n)\n",
    "\n",
    "        initial_node_data = (0, initial, len(initial), 1, 0)\n",
    "        initial_node = Node(initial_node_data)\n",
    "\n",
    "\n",
    "        # Container for the fringe, explored states, solution nodes, and tables initialization\n",
    "\n",
    "        # In[23]:\n",
    "\n",
    "        maximum = 0\n",
    "        for i in initial:\n",
    "            if int(i) > maximum: maximum = int(i)\n",
    "\n",
    "        maximum = maximum*required_crossings+1\n",
    "\n",
    "        fringe = []\n",
    "        explored = []\n",
    "        for i in range(maximum):\n",
    "            fringe.append([])\n",
    "            explored.append([])\n",
    "\n",
    "        dicstatelist0 = {}\n",
    "        dicstatelist1 = {}\n",
    "        dicexstatelist0 = {}\n",
    "        dicexstatelist1 = {}\n",
    "\n",
    "        m = n\n",
    "        while m>=0:\n",
    "            combi = itertools.combinations(initial, m)\n",
    "            for i in combi:\n",
    "                dicstatelist0[i] = 999999999\n",
    "                dicstatelist1[i] = 999999999\n",
    "                dicexstatelist0[i] = 999999999\n",
    "                dicexstatelist1[i] = 999999999\n",
    "            m-=1\n",
    "\n",
    "        solutions = []\n",
    "\n",
    "\n",
    "        # # A* SEARCH\n",
    "\n",
    "        # 1) Insert initial state to fringe\n",
    "\n",
    "        # In[24]:\n",
    "\n",
    "        insert(initial_node, fringe[initial_node.data[0]])\n",
    "        dicstatelist0[tuple(initial_node.data[1])] = 0\n",
    "\n",
    "\n",
    "        # 2) Repeat\n",
    "\n",
    "        # In[25]:\n",
    "\n",
    "        while(True):\n",
    "\n",
    "            ### RETURN FAILURE IF FRINGE IS EMPTY\n",
    "            if (fringe_empty(fringe)):\n",
    "                sys.exit(0)\n",
    "\n",
    "            ### REMOVE FROM FRINGE THE NODE WITH HIGHEST PRIORITY\n",
    "            node = remove(fringe)\n",
    "            explored.append(node)\n",
    "\n",
    "            ### GET THE STATE FROM NODE\n",
    "            state = get_state(node)\n",
    "            direction = get_direction(node)\n",
    "\n",
    "            ### IF THE STATE IS THE GOAL, RETURN SOLUTION\n",
    "            if len(state) == 0:\n",
    "                solutions.append(node)\n",
    "\n",
    "                print('Input: ', end=' ')\n",
    "                for i in initial:\n",
    "                    print(i, end=' ')\n",
    "                print()\n",
    "                print('Output: ', solutions[0].data[0], len(explored))        \n",
    "                print_crossing(solutions[0])\n",
    "                #print_path(solutions[0])\n",
    "\n",
    "                end = time.perf_counter()\n",
    "                wallend = time.time()\n",
    "                print_time(start, end, wallstart, wallend)\n",
    "                sys.exit(1)\n",
    "\n",
    "            cond1 = (1, 1)\n",
    "            cond2 = (0, 0)\n",
    "\n",
    "            ### GET THE SUCCESSORS OF THE STATE\n",
    "            ### SUCCESSOR FUNCTION FOR TWO CROSSING PEOPLE\n",
    "            if direction == 1:\n",
    "\n",
    "                dicexstatelist1[tuple(node.data[1])] = node.data[0]\n",
    "                dicstatelist1[tuple(node.data[1])] = 999999999\n",
    "\n",
    "                successors = get_successor1(state, len(state)-2)\n",
    "\n",
    "                ### CREATE A NODE FOR EVERY SUCCESSOR\n",
    "                for k in successors:\n",
    "                    actual_cost = node.data[4] + int(max_of(k))\n",
    "                    heuristic_value = 0\n",
    "                    if len(k[0]) > 0: heuristic_value = max(k[0])\n",
    "                    pathcost = actual_cost + heuristic_value\n",
    "                    nodeprime = Node((pathcost, k[0], len(k[0]), 0, actual_cost))\n",
    "                    nodeprime.set_next(node)\n",
    "\n",
    "                    cond2 = in_table(nodeprime, dicexstatelist0)\n",
    "                    cond1 = in_table(nodeprime, dicstatelist0)\n",
    "\n",
    "                    ### IF THE SUCCESSOR IS NOT IN FRINGE OR EXPLORED, INSERT NODE TO FRINGE\n",
    "                    if cond1[0]!=1 and cond2[0]!=1:\n",
    "                        insert(nodeprime, fringe[nodeprime.data[0]])\n",
    "                        dicstatelist0[tuple(nodeprime.data[1])] = nodeprime.data[0]\n",
    "\n",
    "                    ### ELSE IF THE SUCCESSOR IS IN THE FRINGE,\n",
    "                    ### REPLACE THE ONE IN THE FRINGE IF THE COST OF GOING TO THIS SUCCESSOR IS LOWER\n",
    "                    elif cond1[0]==1:\n",
    "                        if nodeprime.data[0]<cond1[1]:\n",
    "                            insert(nodeprime, fringe[nodeprime.data[0]])\n",
    "                            fringe[cond1[1]] = remove_duplicate(nodeprime, fringe[cond1[1]])\n",
    "                            if dicstatelist0[tuple(nodeprime.data[1])] > nodeprime.data[0]:\n",
    "                                dicstatelist0[tuple(nodeprime.data[1])] = nodeprime.data[0]      \n",
    "\n",
    "            ### SUCCESSOR FUNCTION FOR ONE PERSON CROSSING BACK            \n",
    "            elif direction == 0:\n",
    "\n",
    "                dicexstatelist0[tuple(node.data[1])] = node.data[0]\n",
    "                dicstatelist0[tuple(node.data[1])] = 999999999\n",
    "\n",
    "                crossed = get_crossed_list(state, initial_node.data[1])\n",
    "                successors = get_successor2(state, crossed)\n",
    "\n",
    "                ### CREATE A NODE FOR EVERY SUCCESSOR\n",
    "                for k in successors:\n",
    "                    actual_cost = node.data[4] + int(k[1])\n",
    "                    heuristic_value = 0\n",
    "                    if len(k[0]) > 0: heuristic_value = max(k[0])\n",
    "                    pathcost = actual_cost + heuristic_value\n",
    "                    nodeprime = Node((pathcost, k[0], len(k[0]), 1, actual_cost))\n",
    "                    nodeprime.set_next(node)\n",
    "\n",
    "                    cond2 = in_table(nodeprime, dicexstatelist1)\n",
    "                    cond1 = in_table(nodeprime, dicstatelist1)\n",
    "\n",
    "                    ### IF THE SUCCESSOR IS NOT IN FRINGE OR EXPLORED, INSERT NODE TO FRINGE\n",
    "                    if cond1[0]!=1 and cond2[0]!=1:\n",
    "                        insert(nodeprime, fringe[nodeprime.data[0]])\n",
    "                        dicstatelist1[tuple(nodeprime.data[1])] = nodeprime.data[0]\n",
    "\n",
    "                    ### ELSE IF THE SUCCESSOR IS IN THE FRINGE,\n",
    "                    ### REPLACE THE ONE IN THE FRINGE IF THE COST OF GOING TO THIS SUCCESSOR IS LOWER\n",
    "                    elif cond1[0]==1:\n",
    "                        if nodeprime.data[0]<cond1[1]:\n",
    "                            insert(nodeprime, fringe[nodeprime.data[0]])\n",
    "                            fringe[cond1[1]] = remove_duplicate(nodeprime, fringe[cond1[1]])\n",
    "                            if dicstatelist1[tuple(nodeprime.data[1])] > nodeprime.data[0]:\n",
    "                                dicstatelist1[tuple(nodeprime.data[1])] = nodeprime.data[0]\n",
    "\n",
    "\n",
    "\n",
    "\n"
   ]
  },
  {
   "cell_type": "code",
   "execution_count": 25,
   "metadata": {},
   "outputs": [
    {
     "name": "stdout",
     "output_type": "stream",
     "text": [
      "Input:  1 2 5 10 \n",
      "Output:  17 73\n",
      "1 2 -> \n",
      "1 <- \n",
      "5 10 -> \n",
      "2 <- \n",
      "1 2 -> \n",
      "0.0004653999931178987\n",
      "0.0010020732879638672\n"
     ]
    },
    {
     "ename": "SystemExit",
     "evalue": "1",
     "output_type": "error",
     "traceback": [
      "An exception has occurred, use %tb to see the full traceback.\n",
      "\u001b[1;31mSystemExit\u001b[0m\u001b[1;31m:\u001b[0m 1\n"
     ]
    },
    {
     "name": "stderr",
     "output_type": "stream",
     "text": [
      "c:\\Users\\nicko\\AppData\\Local\\Programs\\Python\\Python311\\Lib\\site-packages\\IPython\\core\\interactiveshell.py:3450: UserWarning: To exit: use 'exit', 'quit', or Ctrl-D.\n",
      "  warn(\"To exit: use 'exit', 'quit', or Ctrl-D.\", stacklevel=1)\n"
     ]
    }
   ],
   "source": [
    "#UCS\n",
    "\n",
    "search([1,2,5,10],0)"
   ]
  },
  {
   "cell_type": "code",
   "execution_count": 26,
   "metadata": {},
   "outputs": [
    {
     "name": "stdout",
     "output_type": "stream",
     "text": [
      "Input:  1 2 5 10 \n",
      "Output:  17 66\n",
      "1 2 -> \n",
      "1 <- \n",
      "5 10 -> \n",
      "2 <- \n",
      "1 2 -> \n",
      "0.001269000000320375\n",
      "0.0010020732879638672\n"
     ]
    },
    {
     "ename": "SystemExit",
     "evalue": "1",
     "output_type": "error",
     "traceback": [
      "An exception has occurred, use %tb to see the full traceback.\n",
      "\u001b[1;31mSystemExit\u001b[0m\u001b[1;31m:\u001b[0m 1\n"
     ]
    }
   ],
   "source": [
    "#UCS\n",
    "\n",
    "search([1,2,5,10],1)"
   ]
  },
  {
   "cell_type": "code",
   "execution_count": 29,
   "metadata": {},
   "outputs": [
    {
     "name": "stdout",
     "output_type": "stream",
     "text": [
      "Input:  1 2 3 4 5 10 14 18 20 50 \n",
      "Output:  104 2876\n",
      "1 2 -> \n",
      "1 <- \n",
      "5 10 -> \n",
      "2 <- \n",
      "1 2 -> \n",
      "1 <- \n",
      "14 18 -> \n",
      "2 <- \n",
      "1 2 -> \n",
      "1 <- \n",
      "20 50 -> \n",
      "2 <- \n",
      "1 2 -> \n",
      "1 <- \n",
      "1 3 -> \n",
      "1 <- \n",
      "1 4 -> \n",
      "0.4797277000034228\n",
      "0.4800689220428467\n"
     ]
    },
    {
     "ename": "SystemExit",
     "evalue": "1",
     "output_type": "error",
     "traceback": [
      "An exception has occurred, use %tb to see the full traceback.\n",
      "\u001b[1;31mSystemExit\u001b[0m\u001b[1;31m:\u001b[0m 1\n"
     ]
    }
   ],
   "source": [
    "#UCS\n",
    "\n",
    "search([1,2,5,10,3,4,14,18,20,50],0)"
   ]
  },
  {
   "cell_type": "code",
   "execution_count": 62,
   "metadata": {},
   "outputs": [
    {
     "name": "stdout",
     "output_type": "stream",
     "text": [
      "Input:  1 2 3 4 5 10 14 18 20 50 \n",
      "Output:  104 2743\n",
      "1 2 -> \n",
      "1 <- \n",
      "5 10 -> \n",
      "2 <- \n",
      "1 2 -> \n",
      "1 <- \n",
      "20 50 -> \n",
      "2 <- \n",
      "1 2 -> \n",
      "1 <- \n",
      "1 3 -> \n",
      "1 <- \n",
      "1 4 -> \n",
      "1 <- \n",
      "14 18 -> \n",
      "2 <- \n",
      "1 2 -> \n",
      "0.3200419999999973\n",
      "0.3187413215637207\n"
     ]
    },
    {
     "ename": "SystemExit",
     "evalue": "1",
     "output_type": "error",
     "traceback": [
      "An exception has occurred, use %tb to see the full traceback.\n",
      "\u001b[0;31mSystemExit\u001b[0m\u001b[0;31m:\u001b[0m 1\n"
     ]
    },
    {
     "name": "stderr",
     "output_type": "stream",
     "text": [
      "/home/camcomia/anaconda3/lib/python3.6/site-packages/IPython/core/interactiveshell.py:2889: UserWarning: To exit: use 'exit', 'quit', or Ctrl-D.\n",
      "  warn(\"To exit: use 'exit', 'quit', or Ctrl-D.\", stacklevel=1)\n"
     ]
    }
   ],
   "source": [
    "#A*\n",
    "\n",
    "search([1,2,5,10,3,4,14,18,20,50],1)"
   ]
  },
  {
   "cell_type": "code",
   "execution_count": 63,
   "metadata": {},
   "outputs": [
    {
     "name": "stdout",
     "output_type": "stream",
     "text": [
      "Input:  1 2 5 10 11 12 15 17 19 20 20 21 24 33 55 \n",
      "Output:  182 50581\n",
      "1 2 -> \n",
      "1 <- \n",
      "10 11 -> \n",
      "2 <- \n",
      "1 2 -> \n",
      "1 <- \n",
      "12 15 -> \n",
      "2 <- \n",
      "1 2 -> \n",
      "1 <- \n",
      "17 19 -> \n",
      "2 <- \n",
      "1 2 -> \n",
      "1 <- \n",
      "20 20 -> \n",
      "2 <- \n",
      "1 2 -> \n",
      "1 <- \n",
      "21 24 -> \n",
      "2 <- \n",
      "1 2 -> \n",
      "1 <- \n",
      "33 55 -> \n",
      "2 <- \n",
      "1 2 -> \n",
      "1 <- \n",
      "1 5 -> \n",
      "10.907847999999998\n",
      "10.906993627548218\n"
     ]
    },
    {
     "ename": "SystemExit",
     "evalue": "1",
     "output_type": "error",
     "traceback": [
      "An exception has occurred, use %tb to see the full traceback.\n",
      "\u001b[0;31mSystemExit\u001b[0m\u001b[0;31m:\u001b[0m 1\n"
     ]
    },
    {
     "name": "stderr",
     "output_type": "stream",
     "text": [
      "/home/camcomia/anaconda3/lib/python3.6/site-packages/IPython/core/interactiveshell.py:2889: UserWarning: To exit: use 'exit', 'quit', or Ctrl-D.\n",
      "  warn(\"To exit: use 'exit', 'quit', or Ctrl-D.\", stacklevel=1)\n"
     ]
    }
   ],
   "source": [
    "#UCS\n",
    "\n",
    "search([1,2,5,10,12,17,24,21,20,20,11,33,15,19,55],0)"
   ]
  },
  {
   "cell_type": "code",
   "execution_count": 64,
   "metadata": {},
   "outputs": [
    {
     "name": "stdout",
     "output_type": "stream",
     "text": [
      "Input:  1 2 5 10 11 12 15 17 19 20 20 21 24 33 55 \n",
      "Output:  182 49705\n",
      "1 2 -> \n",
      "1 <- \n",
      "10 11 -> \n",
      "2 <- \n",
      "1 2 -> \n",
      "1 <- \n",
      "12 15 -> \n",
      "2 <- \n",
      "1 2 -> \n",
      "1 <- \n",
      "17 19 -> \n",
      "2 <- \n",
      "1 2 -> \n",
      "1 <- \n",
      "20 20 -> \n",
      "2 <- \n",
      "1 2 -> \n",
      "1 <- \n",
      "33 55 -> \n",
      "2 <- \n",
      "1 2 -> \n",
      "1 <- \n",
      "1 5 -> \n",
      "1 <- \n",
      "21 24 -> \n",
      "2 <- \n",
      "1 2 -> \n",
      "13.851675999999998\n",
      "13.84962773323059\n"
     ]
    },
    {
     "ename": "SystemExit",
     "evalue": "1",
     "output_type": "error",
     "traceback": [
      "An exception has occurred, use %tb to see the full traceback.\n",
      "\u001b[0;31mSystemExit\u001b[0m\u001b[0;31m:\u001b[0m 1\n"
     ]
    },
    {
     "name": "stderr",
     "output_type": "stream",
     "text": [
      "/home/camcomia/anaconda3/lib/python3.6/site-packages/IPython/core/interactiveshell.py:2889: UserWarning: To exit: use 'exit', 'quit', or Ctrl-D.\n",
      "  warn(\"To exit: use 'exit', 'quit', or Ctrl-D.\", stacklevel=1)\n"
     ]
    }
   ],
   "source": [
    "#A*\n",
    "\n",
    "search([1,2,5,10,12,17,24,21,20,20,11,33,15,19,55],1)"
   ]
  },
  {
   "cell_type": "markdown",
   "metadata": {
    "collapsed": true
   },
   "source": [
    "# Analysis and Conclusion"
   ]
  },
  {
   "cell_type": "code",
   "execution_count": 1,
   "metadata": {},
   "outputs": [
    {
     "data": {
      "text/html": [
       "<div>\n",
       "<style>\n",
       "    .dataframe thead tr:only-child th {\n",
       "        text-align: right;\n",
       "    }\n",
       "\n",
       "    .dataframe thead th {\n",
       "        text-align: left;\n",
       "    }\n",
       "\n",
       "    .dataframe tbody tr th {\n",
       "        vertical-align: top;\n",
       "    }\n",
       "</style>\n",
       "<table border=\"1\" class=\"dataframe\">\n",
       "  <thead>\n",
       "    <tr style=\"text-align: right;\">\n",
       "      <th></th>\n",
       "      <th>Algorithm</th>\n",
       "      <th>Runtime(n=4)</th>\n",
       "      <th>Runtime(n=10)</th>\n",
       "      <th>Runtime(n=15)</th>\n",
       "      <th>Optimal?</th>\n",
       "    </tr>\n",
       "  </thead>\n",
       "  <tbody>\n",
       "    <tr>\n",
       "      <th>0</th>\n",
       "      <td>Uniform Cost Search</td>\n",
       "      <td>0.006169</td>\n",
       "      <td>0.169349</td>\n",
       "      <td>10.907848</td>\n",
       "      <td>Yes</td>\n",
       "    </tr>\n",
       "    <tr>\n",
       "      <th>1</th>\n",
       "      <td>A* Search</td>\n",
       "      <td>0.004997</td>\n",
       "      <td>0.320042</td>\n",
       "      <td>13.851676</td>\n",
       "      <td>Yes</td>\n",
       "    </tr>\n",
       "  </tbody>\n",
       "</table>\n",
       "</div>"
      ],
      "text/plain": [
       "             Algorithm  Runtime(n=4)  Runtime(n=10)  Runtime(n=15) Optimal?\n",
       "0  Uniform Cost Search      0.006169       0.169349      10.907848      Yes\n",
       "1            A* Search      0.004997       0.320042      13.851676      Yes"
      ]
     },
     "execution_count": 1,
     "metadata": {},
     "output_type": "execute_result"
    }
   ],
   "source": [
    "import pandas as pd\n",
    "\n",
    "labels = ['Algorithm','Runtime(n=4)','Runtime(n=10)','Runtime(n=15)','Optimal?']\n",
    "data = [('Uniform Cost Search',0.006168999999999869,0.16934900000000042,10.907847999999998,'Yes'),('A* Search',0.004996999999999474,0.3200419999999973,13.851675999999998,'Yes')]\n",
    "runtime_data = pd.DataFrame.from_records(data, columns = labels)\n",
    "runtime_data"
   ]
  },
  {
   "cell_type": "code",
   "execution_count": 8,
   "metadata": {},
   "outputs": [
    {
     "data": {
      "text/html": [
       "<div>\n",
       "<style>\n",
       "    .dataframe thead tr:only-child th {\n",
       "        text-align: right;\n",
       "    }\n",
       "\n",
       "    .dataframe thead th {\n",
       "        text-align: left;\n",
       "    }\n",
       "\n",
       "    .dataframe tbody tr th {\n",
       "        vertical-align: top;\n",
       "    }\n",
       "</style>\n",
       "<table border=\"1\" class=\"dataframe\">\n",
       "  <thead>\n",
       "    <tr style=\"text-align: right;\">\n",
       "      <th></th>\n",
       "      <th>Algorithm</th>\n",
       "      <th>Nodes (n=4)</th>\n",
       "      <th>Nodes (n=10)</th>\n",
       "      <th>Nodes (n=15)</th>\n",
       "    </tr>\n",
       "  </thead>\n",
       "  <tbody>\n",
       "    <tr>\n",
       "      <th>0</th>\n",
       "      <td>Uniform Cost Search</td>\n",
       "      <td>73</td>\n",
       "      <td>2876</td>\n",
       "      <td>50851</td>\n",
       "    </tr>\n",
       "    <tr>\n",
       "      <th>1</th>\n",
       "      <td>A* Search</td>\n",
       "      <td>66</td>\n",
       "      <td>2743</td>\n",
       "      <td>49705</td>\n",
       "    </tr>\n",
       "  </tbody>\n",
       "</table>\n",
       "</div>"
      ],
      "text/plain": [
       "             Algorithm  Nodes (n=4)  Nodes (n=10)  Nodes (n=15)\n",
       "0  Uniform Cost Search           73          2876         50851\n",
       "1            A* Search           66          2743         49705"
      ]
     },
     "execution_count": 8,
     "metadata": {},
     "output_type": "execute_result"
    }
   ],
   "source": [
    "data2 = [('Algorithm',['Uniform Cost Search', 'A* Search']),('Nodes (n=4)',[73,66]),('Nodes (n=10)',[2876,2743]),('Nodes (n=15)',[50851,49705])]\n",
    "nodes_data = pd.DataFrame.from_items(data2)\n",
    "nodes_data"
   ]
  },
  {
   "cell_type": "markdown",
   "metadata": {},
   "source": [
    "For smaller cases, A star search has a better chance of being faster than the uniform cost search. However, for bigger cases, there is a better chance of UCS being faster than A star search. From this we cannot really assume that using one over the other is better. It is better to know your input cases to ensure that you cater the algorithm you use to your data to get the more efficient outcome. \n",
    "\n",
    "\n",
    "It can be read from the table that both search algorithms are optimal. In general cases, the deciding factor as to which is the better algorithm is from the nodes expanded. Since UCS is a blind search, it does a worse job than A * search in evaluating the fitness of every prospective state. We can see this comparison take place in the number of nodes expanded by both algorithms in the second table above. We've also learned that, with a good heuristic, A *  search can find the optimal solution with lesser nodes expanded and the only con is that it takes a significantly longer time for larger cases."
   ]
  },
  {
   "cell_type": "markdown",
   "metadata": {},
   "source": [
    "# Individual Contributions"
   ]
  },
  {
   "cell_type": "markdown",
   "metadata": {},
   "source": [
    "**Comia, Camille<br>\n",
    "Pangarungan, Nicko**\n",
    "\n",
    "Nicko designed the implementation and the program while Camille made some very minor revisions on it as well. For the written report, since Nicko created the program, he also wrote the description of the program environment and implementation. Camille proved the heuristics for A * search and the rest of the written report."
   ]
  },
  {
   "cell_type": "code",
   "execution_count": null,
   "metadata": {
    "collapsed": true
   },
   "outputs": [],
   "source": []
  }
 ],
 "metadata": {
  "kernelspec": {
   "display_name": "Python 3",
   "language": "python",
   "name": "python3"
  },
  "language_info": {
   "codemirror_mode": {
    "name": "ipython",
    "version": 3
   },
   "file_extension": ".py",
   "mimetype": "text/x-python",
   "name": "python",
   "nbconvert_exporter": "python",
   "pygments_lexer": "ipython3",
   "version": "3.11.1"
  }
 },
 "nbformat": 4,
 "nbformat_minor": 2
}
